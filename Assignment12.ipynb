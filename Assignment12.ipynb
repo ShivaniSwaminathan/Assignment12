{
 "cells": [
  {
   "cell_type": "code",
   "execution_count": 10,
   "metadata": {},
   "outputs": [
    {
     "name": "stdout",
     "output_type": "stream",
     "text": [
      "------------Welcome to our e-commerce System of Comic Books------------\n",
      "Are You Seller or Buyer: seller\n",
      "----------Welcome to our Seller e-commerce System----------\n",
      "0 for Exit\n",
      "1 sellersignup\n",
      "2 upload\n",
      "Enter Choice: 1\n",
      "Enter Seller Name: Gem\n",
      "Create Password: 68hh\n"
     ]
    }
   ],
   "source": [
    "import os\n",
    "import json\n",
    "import random\n",
    "\n",
    "os.chdir(r\"C:\\Users\\shivani.ss\\Documents\\Json\")\n",
    "class Seller:\n",
    "    def Menu(self):\n",
    "        print(\"----------Welcome to our Seller e-commerce System----------\")\n",
    "        print(\"0 for Exit\")\n",
    "        print(\"1 sellersignup\")\n",
    "        print(\"2 upload\")\n",
    "        c=int(input(\"Enter Choice: \"))\n",
    "        return c\n",
    "        \n",
    "    def sellersignup(self):\n",
    "        self.id=random.randint(1,1000)\n",
    "        self.sname=input(\"Enter Seller Name: \")\n",
    "        self.password=input(\"Create Password: \")\n",
    "        if os.stat('Ebook.json').st_size==0:\n",
    "            data={'Seller_Details':[{'Sname':self.sname,'Sid':self.id,'Spassword':self.password}]}\n",
    "            with open('Ebook.json','w') as f:\n",
    "                dataobj=json.dumps(data)\n",
    "                f.write(dataobj)\n",
    "        else:\n",
    "            data={'Sname':self.sname,'Sid':self.id,'Spassword':self.password}\n",
    "            items=iter(data.items())\n",
    "            with open('Ebook.json','r') as f:\n",
    "                adata=json.load(f)\n",
    "                for i in adata:\n",
    "                    val=adata[i]\n",
    "                    val.append(data)\n",
    "            '''with open('Ebook.json','r') as l:\n",
    "                old=json.load(l)\n",
    "                print(old['Seller_Details'])'''\n",
    "            udict={'Seller_Details':val}\n",
    "            with open('Ebook.json','w') as fi:\n",
    "                json.dump(udict,fi)\n",
    "    def upload(self):\n",
    "        self.comic=input(\"Enter Book Name: \")\n",
    "        self.price=input(\"Enter Price: \")\n",
    "        self.author=input(\"Enter Author: \")\n",
    "        self.des=input(\"Description: \")\n",
    "        self.lang=input(\"Enter Language: \")\n",
    "        self.cat=input(\"Enter Category: \")\n",
    "        if os.stat('Comic.json').st_size==0:\n",
    "            data={'Comic_Details':[{'Cname':self.comic,'Price':self.price,'Author':self.author,'Des':self.des,'Lang':self.lang,'Category':self.cat}]}\n",
    "            with open('Comic.json','w') as f:\n",
    "                dataobj=json.dumps(data)\n",
    "                f.write(dataobj)\n",
    "        else:\n",
    "            data={'Cname':self.comic,'Price':self.price,'Author':self.author,'Des':self.des,'Lang':self.lang,'Category':self.cat}\n",
    "            with open('Comic.json','r') as f:\n",
    "                adata=json.load(f)\n",
    "                for i in adata:\n",
    "                    val=adata[i]\n",
    "                    val.append(data)\n",
    "            udict={'Comic_Details':val}\n",
    "            with open('Comic.json','w') as fi:\n",
    "                json.dump(udict,fi)\n",
    "        \n",
    "class Buyer(Seller):\n",
    "    def BMenu(self):\n",
    "        print(\"----------Welcome to our Seller e-commerce System----------\")\n",
    "        print(\"0 for Exit\")\n",
    "        print(\"1 buyersignup\")\n",
    "        print(\"2 SearchBook\")\n",
    "        print(\"3 Order\")\n",
    "        c=int(input(\"Enter Choice: \"))\n",
    "        return c\n",
    "    def Buyersignup(self):\n",
    "        self.id=random.randint(1,1000)\n",
    "        self.bname=input(\"Enter Seller Name: \")\n",
    "        self.password=input(\"Create Password: \")\n",
    "        if os.stat('Buy.json').st_size==0:\n",
    "            data={'Buyer_Details':[{'Bname':self.bname,'Bid':self.id,'Bpassword':self.password}]}\n",
    "            with open('Buy.json','w') as f:\n",
    "                dataobj=json.dumps(data)\n",
    "                f.write(dataobj)\n",
    "        else:\n",
    "            data={'Bname':self.bname,'Bid':self.id,'Bpassword':self.password}\n",
    "            with open('Buy.json','r') as f:\n",
    "                adata=json.load(f)\n",
    "                for i in adata:\n",
    "                    val=adata[i]\n",
    "                    val.append(data)\n",
    "            udict={'Seller_Details':val}\n",
    "            with open('Buy.json','w') as fi:\n",
    "                json.dump(udict,fi)\n",
    "    def Search(self):\n",
    "        self.comic=input(\"Enter Comic Name to search: \")\n",
    "        with open('Comic.json') as f:\n",
    "            obj=json.load(f)\n",
    "            #print(obj.values())\n",
    "            result=[data[0] for data in obj.values()]\n",
    "            print(result)\n",
    "            print(sresult)\n",
    "            print('Cname \\t\\t Price \\t\\t Author \\t\\t Des \\t\\t Lang \\t\\t Category')\n",
    "            if len(sresult)>0:\n",
    "                for i in list(sresult):\n",
    "                    print(i[0],'\\t\\t',i[1],'\\t\\t',i[2],'\\t\\t',i[3],'\\t\\t',i[4],'\\t\\t',i[5])\n",
    "            else:\n",
    "                print(\"----------------No Search Results Found----------------\")\n",
    "print(\"------------Welcome to our e-commerce System of Comic Books------------\")\n",
    "sorb=input(\"Are You Seller or Buyer: \")\n",
    "if(sorb.lower()=='seller'):\n",
    "    sobj=Seller()\n",
    "    schoice=sobj.Menu()\n",
    "    while(True):\n",
    "        if(schoice==0):\n",
    "            break\n",
    "        elif(schoice==1):\n",
    "            sobj.sellersignup()\n",
    "            break\n",
    "        elif(schoice==2):\n",
    "            sobj.upload()\n",
    "            break\n",
    "        else:\n",
    "            pass\n",
    "else:\n",
    "    bobj=Buyer()\n",
    "    bchoice=bobj.BMenu()\n",
    "    while(True):\n",
    "        if(bchoice==0):\n",
    "            break\n",
    "        elif(bchoice==1):\n",
    "            bobj.Buyersignup()\n",
    "            break\n",
    "        elif(bchoice==2):\n",
    "            bobj.Search()\n",
    "            break\n",
    "        else:\n",
    "            pass"
   ]
  },
  {
   "cell_type": "code",
   "execution_count": 2,
   "metadata": {},
   "outputs": [
    {
     "name": "stdout",
     "output_type": "stream",
     "text": [
      "The json file is created\n"
     ]
    }
   ],
   "source": [
    "with open('Comic.json', 'w') as f:\n",
    "    print(\"The json file is created\")"
   ]
  },
  {
   "cell_type": "code",
   "execution_count": 8,
   "metadata": {},
   "outputs": [
    {
     "name": "stdout",
     "output_type": "stream",
     "text": [
      "The json file is created\n"
     ]
    }
   ],
   "source": [
    "with open('Buy.json', 'w') as f:\n",
    "    print(\"The json file is created\")"
   ]
  },
  {
   "cell_type": "code",
   "execution_count": null,
   "metadata": {},
   "outputs": [],
   "source": []
  }
 ],
 "metadata": {
  "kernelspec": {
   "display_name": "Python 3",
   "language": "python",
   "name": "python3"
  },
  "language_info": {
   "codemirror_mode": {
    "name": "ipython",
    "version": 3
   },
   "file_extension": ".py",
   "mimetype": "text/x-python",
   "name": "python",
   "nbconvert_exporter": "python",
   "pygments_lexer": "ipython3",
   "version": "3.7.4"
  }
 },
 "nbformat": 4,
 "nbformat_minor": 2
}
